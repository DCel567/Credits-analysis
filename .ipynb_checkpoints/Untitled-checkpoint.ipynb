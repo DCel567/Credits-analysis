{
 "cells": [
  {
   "cell_type": "code",
   "execution_count": 2,
   "id": "1af84cce",
   "metadata": {},
   "outputs": [],
   "source": [
    "import numpy as np\n",
    "import pandas as pd\n",
    "import re\n",
    "from sklearn.ensemble import RandomForestClassifier\n",
    "from sklearn.model_selection import train_test_split\n",
    "from sklearn.preprocessing import StandardScaler\n",
    "from sklearn import metrics"
   ]
  },
  {
   "cell_type": "code",
   "execution_count": 3,
   "id": "d827e077",
   "metadata": {},
   "outputs": [],
   "source": [
    "def prepare_living_region():\n",
    "\t\"\"\"скрипт для приведения к плюс-минус божескому виду столбец living_region\"\"\"\n",
    "\tglobal df\n",
    "\tregex = re.compile('( ?ОБЛАСТЬ.?)|(^А?ОБЛ. ?)|(^А?ОБЛ )|( А?ОБЛ.?$)|( ?КРАЙ.? ?)|( ?РЕСПУБЛИКА ?)|( ?РЕСП.? ?)|'\n",
    "\t\t\t\t\t\t'( ?АО ?)|( ?Р-Н ?)|(^Г. ?)|(^Г )|( Г.?$)|( АВТОНОМНАЯ ?)|( АВТОНОМНЫЙ )')\n",
    "\tdf.living_region = df.living_region.str.replace(regex, '')\n",
    "\n",
    "\tunique = df.living_region.unique()\n",
    "\n",
    "\tregionNums = [i for i in range(1, len(unique) + 1)]\n",
    "\tdf.living_region.replace(unique, regionNums, inplace=True)"
   ]
  },
  {
   "cell_type": "code",
   "execution_count": 4,
   "id": "512b5a98",
   "metadata": {},
   "outputs": [],
   "source": [
    "def prepare_job_position():\n",
    "\t\"\"\"скрипт для приведения к плюс-минус божескому виду столбец job_position\"\"\"\n",
    "\tglobal df\n",
    "\n",
    "\tunique = df.job_position.unique()\n",
    "\n",
    "\tjobNums = [i for i in range(1, len(unique) + 1)]\n",
    "\tdf.job_position.replace(unique, jobNums, inplace=True)"
   ]
  },
  {
   "cell_type": "code",
   "execution_count": 5,
   "id": "ccf3cdac",
   "metadata": {},
   "outputs": [],
   "source": [
    "def prepare_education():\n",
    "\t\"\"\"скрипт для приведения к плюс-минус божескому виду столбец education\"\"\"\n",
    "\tglobal df\n",
    "\n",
    "\tunique = df.education.unique()\n",
    "\n",
    "\tjobNums = [i for i in range(1, len(unique) + 1)]\n",
    "\tdf.education.replace(unique, jobNums, inplace=True)"
   ]
  },
  {
   "cell_type": "code",
   "execution_count": 6,
   "id": "2eb3e6f4",
   "metadata": {},
   "outputs": [],
   "source": [
    "df = pd.read_csv('credit.csv', ';', encoding='cp1251', decimal=',')"
   ]
  },
  {
   "cell_type": "code",
   "execution_count": 7,
   "id": "fae546c8",
   "metadata": {},
   "outputs": [],
   "source": [
    "#  приведение таблицы к удобоваримому для нейросети виду\n",
    "df.replace(np.nan, 0, inplace=True)\n",
    "df.gender.replace(['M', 'F'], [1, 0], inplace=True)\n",
    "df.replace({'marital_status': {'MAR': 1, 'UNM': 2, 'CIV': 3, 'DIV': 4, 'WID': 5}}, inplace=True)\n",
    "prepare_living_region()\n",
    "prepare_job_position()\n",
    "prepare_education()"
   ]
  },
  {
   "cell_type": "code",
   "execution_count": 9,
   "id": "17122e33",
   "metadata": {},
   "outputs": [],
   "source": [
    "#  запуск и работа нейронной сети\n",
    "def start_prediction(fieldsOfInterest):\n",
    "    x_train, x_test, y_train, y_test = \\\n",
    "        train_test_split(df[fieldsOfInterest],\n",
    "        df.open_account_flg, test_size=0.3, random_state=0)\n",
    "\n",
    "    st = StandardScaler()\n",
    "    x_train = st.fit_transform(x_train)\n",
    "    x_test = st.fit_transform(x_test)\n",
    "\n",
    "    model = RandomForestClassifier()\n",
    "    model.fit(x_train, y_train)\n",
    "\n",
    "    pred = model.predict(x_test)\n",
    "    print(metrics.accuracy_score(y_test, pred))"
   ]
  },
  {
   "cell_type": "code",
   "execution_count": 10,
   "id": "5d72d809",
   "metadata": {},
   "outputs": [
    {
     "name": "stdout",
     "output_type": "stream",
     "text": [
      "0.809561924098079\n"
     ]
    }
   ],
   "source": [
    "start_prediction(['gender', 'age', 'marital_status', 'credit_sum', 'credit_count', 'living_region'])"
   ]
  },
  {
   "cell_type": "code",
   "execution_count": 11,
   "id": "76efe632",
   "metadata": {},
   "outputs": [
    {
     "name": "stdout",
     "output_type": "stream",
     "text": [
      "0.8266437607371545\n"
     ]
    }
   ],
   "source": [
    "start_prediction(['gender'])"
   ]
  },
  {
   "cell_type": "code",
   "execution_count": 12,
   "id": "7215998b",
   "metadata": {},
   "outputs": [
    {
     "name": "stdout",
     "output_type": "stream",
     "text": [
      "0.8265071060440419\n"
     ]
    }
   ],
   "source": [
    "start_prediction(['age'])"
   ]
  },
  {
   "cell_type": "code",
   "execution_count": 13,
   "id": "cee52b84",
   "metadata": {},
   "outputs": [
    {
     "name": "stdout",
     "output_type": "stream",
     "text": [
      "0.8266437607371545\n"
     ]
    }
   ],
   "source": [
    "start_prediction(['marital_status'])"
   ]
  },
  {
   "cell_type": "code",
   "execution_count": null,
   "id": "3948e408",
   "metadata": {},
   "outputs": [],
   "source": [
    "start_prediction(['client_id'])"
   ]
  },
  {
   "cell_type": "code",
   "execution_count": null,
   "id": "38985b88",
   "metadata": {},
   "outputs": [],
   "source": [
    "start_prediction(['credit_sum'])"
   ]
  },
  {
   "cell_type": "code",
   "execution_count": null,
   "id": "9350af74",
   "metadata": {},
   "outputs": [],
   "source": [
    "start_prediction(['credit_count'])"
   ]
  },
  {
   "cell_type": "code",
   "execution_count": null,
   "id": "8c1df496",
   "metadata": {},
   "outputs": [],
   "source": []
  }
 ],
 "metadata": {
  "kernelspec": {
   "display_name": "Python 3",
   "language": "python",
   "name": "python3"
  },
  "language_info": {
   "codemirror_mode": {
    "name": "ipython",
    "version": 3
   },
   "file_extension": ".py",
   "mimetype": "text/x-python",
   "name": "python",
   "nbconvert_exporter": "python",
   "pygments_lexer": "ipython3",
   "version": "3.9.2"
  }
 },
 "nbformat": 4,
 "nbformat_minor": 5
}
