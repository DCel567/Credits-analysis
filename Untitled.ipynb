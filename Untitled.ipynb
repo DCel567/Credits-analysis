{
 "cells": [
  {
   "cell_type": "code",
   "execution_count": 7,
   "id": "1af84cce",
   "metadata": {},
   "outputs": [],
   "source": [
    "import numpy as np\n",
    "import pandas as pd\n",
    "import re\n",
    "from sklearn.ensemble import RandomForestClassifier\n",
    "from sklearn.model_selection import train_test_split\n",
    "from sklearn.preprocessing import StandardScaler\n",
    "from sklearn import metrics"
   ]
  },
  {
   "cell_type": "code",
   "execution_count": 21,
   "id": "d827e077",
   "metadata": {},
   "outputs": [],
   "source": [
    "def prepare_living_region():\n",
    "\t\"\"\"скрипт для приведения к плюс-минус божескому виду столбец living_region\"\"\"\n",
    "\tglobal df\n",
    "\tregex = re.compile('( ?ОБЛАСТЬ.?)|(^А?ОБЛ. ?)|(^А?ОБЛ )|( А?ОБЛ.?$)|( ?КРАЙ.? ?)|( ?РЕСПУБЛИКА ?)|( ?РЕСП.? ?)|'\n",
    "\t\t\t\t\t\t'( ?АО ?)|( ?Р-Н ?)|(^Г. ?)|(^Г )|( Г.?$)|( АВТОНОМНАЯ ?)|( АВТОНОМНЫЙ )')\n",
    "\tdf.living_region = df.living_region.str.replace(regex, '')\n",
    "\n",
    "\tunique = df.living_region.unique()\n",
    "\n",
    "\tregionNums = [i for i in range(1, len(unique) + 1)]\n",
    "\tdf.living_region.replace(unique, regionNums, inplace=True)"
   ]
  },
  {
   "cell_type": "code",
   "execution_count": 14,
   "id": "512b5a98",
   "metadata": {},
   "outputs": [],
   "source": [
    "def prepare_job_position():\n",
    "\t\"\"\"скрипт для приведения к плюс-минус божескому виду столбец job_position\"\"\"\n",
    "\tglobal df\n",
    "\n",
    "\tunique = df.job_position.unique()\n",
    "\n",
    "\tjobNums = [i for i in range(1, len(unique) + 1)]\n",
    "\tdf.job_position.replace(unique, jobNums, inplace=True)"
   ]
  },
  {
   "cell_type": "code",
   "execution_count": 15,
   "id": "ccf3cdac",
   "metadata": {},
   "outputs": [],
   "source": [
    "def prepare_education():\n",
    "\t\"\"\"скрипт для приведения к плюс-минус божескому виду столбец education\"\"\"\n",
    "\tglobal df\n",
    "\n",
    "\tunique = df.education.unique()\n",
    "\n",
    "\tjobNums = [i for i in range(1, len(unique) + 1)]\n",
    "\tdf.education.replace(unique, jobNums, inplace=True)"
   ]
  },
  {
   "cell_type": "code",
   "execution_count": 10,
   "id": "2eb3e6f4",
   "metadata": {},
   "outputs": [],
   "source": [
    "df = pd.read_csv('credit.csv', ';', encoding='cp1251', decimal=',')"
   ]
  },
  {
   "cell_type": "code",
   "execution_count": 16,
   "id": "fae546c8",
   "metadata": {},
   "outputs": [],
   "source": [
    "#  приведение таблицы к удобоваримому для нейросети виду\n",
    "df.replace(np.nan, 0, inplace=True)\n",
    "df.gender.replace(['M', 'F'], [1, 0], inplace=True)\n",
    "df.replace({'marital_status': {'MAR': 1, 'UNM': 2, 'CIV': 3, 'DIV': 4, 'WID': 5}}, inplace=True)\n",
    "prepare_living_region()\n",
    "prepare_job_position()\n",
    "prepare_education()"
   ]
  },
  {
   "cell_type": "code",
   "execution_count": 17,
   "id": "e1408eb2",
   "metadata": {},
   "outputs": [
    {
     "name": "stdout",
     "output_type": "stream",
     "text": [
      "<class 'pandas.core.frame.DataFrame'>\n",
      "RangeIndex: 170746 entries, 0 to 170745\n",
      "Data columns (total 15 columns):\n",
      " #   Column                Non-Null Count   Dtype  \n",
      "---  ------                --------------   -----  \n",
      " 0   client_id             170746 non-null  int64  \n",
      " 1   gender                170746 non-null  int64  \n",
      " 2   age                   170746 non-null  float64\n",
      " 3   marital_status        170746 non-null  int64  \n",
      " 4   job_position          170746 non-null  int64  \n",
      " 5   credit_sum            170746 non-null  float64\n",
      " 6   credit_month          170746 non-null  int64  \n",
      " 7   tariff_id             170746 non-null  object \n",
      " 8   score_shk             170746 non-null  float64\n",
      " 9   education             170746 non-null  int64  \n",
      " 10  living_region         170746 non-null  int64  \n",
      " 11  monthly_income        170746 non-null  float64\n",
      " 12  credit_count          170746 non-null  float64\n",
      " 13  overdue_credit_count  170746 non-null  float64\n",
      " 14  open_account_flg      170746 non-null  int64  \n",
      "dtypes: float64(6), int64(8), object(1)\n",
      "memory usage: 19.5+ MB\n",
      "None\n"
     ]
    }
   ],
   "source": [
    "print(df.info())"
   ]
  },
  {
   "cell_type": "code",
   "execution_count": 19,
   "id": "d5516438",
   "metadata": {},
   "outputs": [],
   "source": [
    "df.living_region = df.living_region.astype('category')"
   ]
  },
  {
   "cell_type": "code",
   "execution_count": 20,
   "id": "30ae151d",
   "metadata": {},
   "outputs": [
    {
     "name": "stdout",
     "output_type": "stream",
     "text": [
      "<class 'pandas.core.frame.DataFrame'>\n",
      "RangeIndex: 170746 entries, 0 to 170745\n",
      "Data columns (total 15 columns):\n",
      " #   Column                Non-Null Count   Dtype   \n",
      "---  ------                --------------   -----   \n",
      " 0   client_id             170746 non-null  int64   \n",
      " 1   gender                170746 non-null  int64   \n",
      " 2   age                   170746 non-null  float64 \n",
      " 3   marital_status        170746 non-null  int64   \n",
      " 4   job_position          170746 non-null  int64   \n",
      " 5   credit_sum            170746 non-null  float64 \n",
      " 6   credit_month          170746 non-null  int64   \n",
      " 7   tariff_id             170746 non-null  object  \n",
      " 8   score_shk             170746 non-null  float64 \n",
      " 9   education             170746 non-null  int64   \n",
      " 10  living_region         170746 non-null  category\n",
      " 11  monthly_income        170746 non-null  float64 \n",
      " 12  credit_count          170746 non-null  float64 \n",
      " 13  overdue_credit_count  170746 non-null  float64 \n",
      " 14  open_account_flg      170746 non-null  int64   \n",
      "dtypes: category(1), float64(6), int64(7), object(1)\n",
      "memory usage: 18.4+ MB\n",
      "None\n"
     ]
    }
   ],
   "source": [
    "print(df.info())"
   ]
  },
  {
   "cell_type": "code",
   "execution_count": 18,
   "id": "17122e33",
   "metadata": {},
   "outputs": [],
   "source": [
    "#  запуск и работа нейронной сети\n",
    "def start_prediction(fieldsOfInterest):\n",
    "    x_train, x_test, y_train, y_test = \\\n",
    "        train_test_split(df[fieldsOfInterest],\n",
    "        df.open_account_flg, test_size=0.3, random_state=0)\n",
    "\n",
    "    st = StandardScaler()\n",
    "    x_train = st.fit_transform(x_train)\n",
    "    x_test = st.fit_transform(x_test)\n",
    "\n",
    "    model = RandomForestClassifier()\n",
    "    model.fit(x_train, y_train)\n",
    "\n",
    "    pred = model.predict(x_test)\n",
    "    print(metrics.accuracy_score(y_test, pred))\n",
    "    print(metrics.mean_squared_error(y_test, pred))"
   ]
  },
  {
   "cell_type": "code",
   "execution_count": 19,
   "id": "5d72d809",
   "metadata": {},
   "outputs": [
    {
     "name": "stdout",
     "output_type": "stream",
     "text": [
      "0.8097766671872559\n",
      "0.19022333281274403\n"
     ]
    }
   ],
   "source": [
    "start_prediction(['gender', 'age', 'marital_status', 'credit_sum', 'credit_count', 'living_region'])"
   ]
  },
  {
   "cell_type": "code",
   "execution_count": 20,
   "id": "5a452482",
   "metadata": {},
   "outputs": [
    {
     "name": "stdout",
     "output_type": "stream",
     "text": [
      "0.8266437607371545\n",
      "0.17335623926284555\n"
     ]
    }
   ],
   "source": [
    "start_prediction(['gender'])"
   ]
  },
  {
   "cell_type": "code",
   "execution_count": 21,
   "id": "123b53ed",
   "metadata": {},
   "outputs": [
    {
     "name": "stdout",
     "output_type": "stream",
     "text": [
      "0.8265071060440419\n",
      "0.17349289395595816\n"
     ]
    }
   ],
   "source": [
    "start_prediction(['age'])"
   ]
  },
  {
   "cell_type": "code",
   "execution_count": 25,
   "id": "be523699",
   "metadata": {},
   "outputs": [
    {
     "name": "stdout",
     "output_type": "stream",
     "text": [
      "0.8266437607371545\n",
      "0.17335623926284555\n"
     ]
    }
   ],
   "source": [
    "start_prediction(['marital_status'])"
   ]
  },
  {
   "cell_type": "code",
   "execution_count": 22,
   "id": "8e2fb4cc",
   "metadata": {},
   "outputs": [
    {
     "name": "stdout",
     "output_type": "stream",
     "text": [
      "0.7129470560674683\n",
      "0.2870529439325316\n"
     ]
    }
   ],
   "source": [
    "start_prediction(['client_id'])"
   ]
  },
  {
   "cell_type": "code",
   "execution_count": 26,
   "id": "986cbde6",
   "metadata": {},
   "outputs": [
    {
     "name": "stdout",
     "output_type": "stream",
     "text": [
      "0.7219662658129002\n",
      "0.2780337341870998\n"
     ]
    }
   ],
   "source": [
    "start_prediction(['credit_sum'])"
   ]
  },
  {
   "cell_type": "code",
   "execution_count": 23,
   "id": "eb6bf519",
   "metadata": {},
   "outputs": [
    {
     "name": "stdout",
     "output_type": "stream",
     "text": [
      "0.8266047165391223\n",
      "0.1733952834608777\n"
     ]
    }
   ],
   "source": [
    "start_prediction(['credit_count'])"
   ]
  },
  {
   "cell_type": "code",
   "execution_count": 24,
   "id": "d678bc9d",
   "metadata": {},
   "outputs": [
    {
     "name": "stdout",
     "output_type": "stream",
     "text": [
      "0.8266828049351866\n",
      "0.17331719506481336\n"
     ]
    }
   ],
   "source": [
    "start_prediction(['living_region'])"
   ]
  },
  {
   "cell_type": "code",
   "execution_count": null,
   "id": "de83b5d8",
   "metadata": {},
   "outputs": [],
   "source": []
  }
 ],
 "metadata": {
  "kernelspec": {
   "display_name": "Python 3",
   "language": "python",
   "name": "python3"
  },
  "language_info": {
   "codemirror_mode": {
    "name": "ipython",
    "version": 3
   },
   "file_extension": ".py",
   "mimetype": "text/x-python",
   "name": "python",
   "nbconvert_exporter": "python",
   "pygments_lexer": "ipython3",
   "version": "3.9.2"
  }
 },
 "nbformat": 4,
 "nbformat_minor": 5
}
