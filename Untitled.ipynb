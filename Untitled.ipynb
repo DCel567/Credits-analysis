{
 "cells": [
  {
   "cell_type": "code",
   "execution_count": 23,
   "id": "1af84cce",
   "metadata": {},
   "outputs": [],
   "source": [
    "import numpy as np\n",
    "import pandas as pd\n",
    "import re\n",
    "from sklearn.ensemble import RandomForestClassifier\n",
    "from sklearn.model_selection import train_test_split\n",
    "from sklearn.preprocessing import StandardScaler\n",
    "from sklearn import metrics"
   ]
  },
  {
   "cell_type": "code",
   "execution_count": 45,
   "id": "d827e077",
   "metadata": {},
   "outputs": [],
   "source": [
    "def prepare_living_region():\n",
    "\t\"\"\"скрипт для приведения к плюс-минус божескому виду столбец living_region\"\"\"\n",
    "\tglobal df\n",
    "\tregex = re.compile('( ?ОБЛАСТЬ.?)|(^А?ОБЛ. ?)|(^А?ОБЛ )|( А?ОБЛ.?$)|( ?КРАЙ.? ?)|( ?РЕСПУБЛИКА ?)|( ?РЕСП.? ?)|'\n",
    "\t\t\t\t\t\t'( ?АО ?)|( ?Р-Н ?)|(^Г. ?)|(^Г )|( Г.?$)|( АВТОНОМНАЯ ?)|( АВТОНОМНЫЙ )')\n",
    "\tdf.living_region = df.living_region.str.replace(regex, '')\n",
    "\n",
    "\tunique = df.living_region.unique()\n",
    "\n",
    "\tregionNums = [i for i in range(1, len(unique) + 1)]\n",
    "\tdf.living_region.replace(unique, regionNums, inplace=True)"
   ]
  },
  {
   "cell_type": "code",
   "execution_count": 25,
   "id": "512b5a98",
   "metadata": {},
   "outputs": [],
   "source": [
    "def prepare_job_position():\n",
    "\t\"\"\"скрипт для приведения к плюс-минус божескому виду столбец job_position\"\"\"\n",
    "\tglobal df\n",
    "\n",
    "\tunique = df.job_position.unique()\n",
    "\n",
    "\tjobNums = [i for i in range(1, len(unique) + 1)]\n",
    "\tdf.job_position.replace(unique, jobNums, inplace=True)"
   ]
  },
  {
   "cell_type": "code",
   "execution_count": 26,
   "id": "ccf3cdac",
   "metadata": {},
   "outputs": [],
   "source": [
    "def prepare_education():\n",
    "\t\"\"\"скрипт для приведения к плюс-минус божескому виду столбец education\"\"\"\n",
    "\tglobal df\n",
    "\n",
    "\tunique = df.education.unique()\n",
    "\n",
    "\tjobNums = [i for i in range(1, len(unique) + 1)]\n",
    "\tdf.education.replace(unique, jobNums, inplace=True)"
   ]
  },
  {
   "cell_type": "code",
   "execution_count": 56,
   "id": "2eb3e6f4",
   "metadata": {},
   "outputs": [],
   "source": [
    "df = pd.read_csv('credit.csv', ';', encoding='cp1251', decimal=',')"
   ]
  },
  {
   "cell_type": "code",
   "execution_count": 57,
   "id": "fae546c8",
   "metadata": {},
   "outputs": [],
   "source": [
    "#  приведение таблицы к удобоваримому для нейросети виду\n",
    "df.replace(np.nan, 0, inplace=True)\n",
    "df.gender.replace(['M', 'F'], [1, 0], inplace=True)\n",
    "df.replace({'marital_status': {'MAR': 1, 'UNM': 2, 'CIV': 3, 'DIV': 4, 'WID': 5}}, inplace=True)\n",
    "prepare_living_region()\n",
    "prepare_job_position()\n",
    "prepare_education()"
   ]
  },
  {
   "cell_type": "code",
   "execution_count": 58,
   "id": "e874c14d",
   "metadata": {},
   "outputs": [
    {
     "name": "stdout",
     "output_type": "stream",
     "text": [
      "<class 'pandas.core.frame.DataFrame'>\n",
      "RangeIndex: 170746 entries, 0 to 170745\n",
      "Data columns (total 15 columns):\n",
      " #   Column                Non-Null Count   Dtype  \n",
      "---  ------                --------------   -----  \n",
      " 0   client_id             170746 non-null  int64  \n",
      " 1   gender                170746 non-null  int64  \n",
      " 2   age                   170746 non-null  float64\n",
      " 3   marital_status        170746 non-null  int64  \n",
      " 4   job_position          170746 non-null  int64  \n",
      " 5   credit_sum            170746 non-null  float64\n",
      " 6   credit_month          170746 non-null  int64  \n",
      " 7   tariff_id             170746 non-null  object \n",
      " 8   score_shk             170746 non-null  float64\n",
      " 9   education             170746 non-null  int64  \n",
      " 10  living_region         170746 non-null  int64  \n",
      " 11  monthly_income        170746 non-null  float64\n",
      " 12  credit_count          170746 non-null  float64\n",
      " 13  overdue_credit_count  170746 non-null  float64\n",
      " 14  open_account_flg      170746 non-null  int64  \n",
      "dtypes: float64(6), int64(8), object(1)\n",
      "memory usage: 19.5+ MB\n",
      "None\n"
     ]
    }
   ],
   "source": [
    "print(df.info())"
   ]
  },
  {
   "cell_type": "code",
   "execution_count": 48,
   "id": "318d83c6",
   "metadata": {},
   "outputs": [],
   "source": [
    "df.living_region = df.living_region.astype('category')"
   ]
  },
  {
   "cell_type": "code",
   "execution_count": 59,
   "id": "e73e00e4",
   "metadata": {},
   "outputs": [
    {
     "name": "stdout",
     "output_type": "stream",
     "text": [
      "<class 'pandas.core.frame.DataFrame'>\n",
      "RangeIndex: 170746 entries, 0 to 170745\n",
      "Data columns (total 15 columns):\n",
      " #   Column                Non-Null Count   Dtype  \n",
      "---  ------                --------------   -----  \n",
      " 0   client_id             170746 non-null  int64  \n",
      " 1   gender                170746 non-null  int64  \n",
      " 2   age                   170746 non-null  float64\n",
      " 3   marital_status        170746 non-null  int64  \n",
      " 4   job_position          170746 non-null  int64  \n",
      " 5   credit_sum            170746 non-null  float64\n",
      " 6   credit_month          170746 non-null  int64  \n",
      " 7   tariff_id             170746 non-null  object \n",
      " 8   score_shk             170746 non-null  float64\n",
      " 9   education             170746 non-null  int64  \n",
      " 10  living_region         170746 non-null  int64  \n",
      " 11  monthly_income        170746 non-null  float64\n",
      " 12  credit_count          170746 non-null  float64\n",
      " 13  overdue_credit_count  170746 non-null  float64\n",
      " 14  open_account_flg      170746 non-null  int64  \n",
      "dtypes: float64(6), int64(8), object(1)\n",
      "memory usage: 19.5+ MB\n",
      "None\n"
     ]
    }
   ],
   "source": [
    "print(df.info())"
   ]
  },
  {
   "cell_type": "code",
   "execution_count": 50,
   "id": "fa3833f4",
   "metadata": {},
   "outputs": [
    {
     "name": "stdout",
     "output_type": "stream",
     "text": [
      "   client_id  gender   age  marital_status  job_position  credit_sum  \\\n",
      "0          1       1   0.0               0             1    59998.00   \n",
      "1          2       0   0.0               1             1    10889.00   \n",
      "2          3       1  32.0               1             2    10728.00   \n",
      "3          4       0  27.0               0             2    12009.09   \n",
      "4          5       1  45.0               0             2        0.00   \n",
      "\n",
      "   credit_month tariff_id  score_shk  education living_region  monthly_income  \\\n",
      "0            10       1.6   0.000000          1             1         30000.0   \n",
      "1             6       1.1   0.000000          2             2             0.0   \n",
      "2            12       1.1   0.000000          2             3             0.0   \n",
      "3            12       1.1   0.000000          2             4             0.0   \n",
      "4            10       1.1   0.421385          3             5             0.0   \n",
      "\n",
      "   credit_count  overdue_credit_count  open_account_flg  \n",
      "0           1.0                   1.0                 0  \n",
      "1           2.0                   0.0                 0  \n",
      "2           5.0                   0.0                 0  \n",
      "3           2.0                   0.0                 0  \n",
      "4           1.0                   0.0                 0  \n"
     ]
    }
   ],
   "source": [
    "print(df.head())"
   ]
  },
  {
   "cell_type": "code",
   "execution_count": 54,
   "id": "17122e33",
   "metadata": {},
   "outputs": [],
   "source": [
    "#  запуск и работа нейронной сети\n",
    "def start_prediction(fieldsOfInterest):\n",
    "    x_train, x_test, y_train, y_test = \\\n",
    "        train_test_split(df[fieldsOfInterest],\n",
    "        df.open_account_flg, test_size=0.3, random_state=0)\n",
    "\n",
    "    st = StandardScaler()\n",
    "    x_train = st.fit_transform(x_train)\n",
    "    x_test = st.fit_transform(x_test)\n",
    "\n",
    "    model = RandomForestClassifier()\n",
    "    model.fit(x_train, y_train)\n",
    "\n",
    "    pred = model.predict(x_test)\n",
    "    print(metrics.accuracy_score(y_test, pred))\n",
    "    print(metrics.mean_squared_error(y_test, pred))\n"
   ]
  },
  {
   "cell_type": "code",
   "execution_count": 60,
   "id": "a2944a83",
   "metadata": {},
   "outputs": [
    {
     "name": "stdout",
     "output_type": "stream",
     "text": [
      "[0.00444412 0.21988712 0.0240592  0.41511682 0.08612736 0.25036538]\n"
     ]
    }
   ],
   "source": [
    "from sklearn import metrics\n",
    "from sklearn.ensemble import ExtraTreesClassifier\n",
    "\n",
    "x_train, x_test, y_train, y_test = \\\n",
    "        train_test_split(df[['gender', 'age', 'marital_status', 'credit_sum', 'credit_count', 'living_region']],\n",
    "        df.open_account_flg, test_size=0.3, random_state=0)\n",
    "\n",
    "\n",
    "model = ExtraTreesClassifier()\n",
    "model.fit(x_test, y_test)\n",
    "# display the relative importance of each attribute\n",
    "print(model.feature_importances_)"
   ]
  },
  {
   "cell_type": "code",
   "execution_count": 53,
   "id": "5d72d809",
   "metadata": {},
   "outputs": [
    {
     "name": "stdout",
     "output_type": "stream",
     "text": [
      "0.8108699047321568\n",
      "0.1891300952678432\n"
     ]
    },
    {
     "ename": "AttributeError",
     "evalue": "'StandardScaler' object has no attribute 'feature_importances_'",
     "output_type": "error",
     "traceback": [
      "\u001b[1;31m---------------------------------------------------------------------------\u001b[0m",
      "\u001b[1;31mAttributeError\u001b[0m                            Traceback (most recent call last)",
      "\u001b[1;32m<ipython-input-53-7905b86ae65f>\u001b[0m in \u001b[0;36m<module>\u001b[1;34m\u001b[0m\n\u001b[1;32m----> 1\u001b[1;33m \u001b[0mstart_prediction\u001b[0m\u001b[1;33m(\u001b[0m\u001b[1;33m[\u001b[0m\u001b[1;34m'gender'\u001b[0m\u001b[1;33m,\u001b[0m \u001b[1;34m'age'\u001b[0m\u001b[1;33m,\u001b[0m \u001b[1;34m'marital_status'\u001b[0m\u001b[1;33m,\u001b[0m \u001b[1;34m'credit_sum'\u001b[0m\u001b[1;33m,\u001b[0m \u001b[1;34m'credit_count'\u001b[0m\u001b[1;33m,\u001b[0m \u001b[1;34m'living_region'\u001b[0m\u001b[1;33m]\u001b[0m\u001b[1;33m)\u001b[0m\u001b[1;33m\u001b[0m\u001b[1;33m\u001b[0m\u001b[0m\n\u001b[0m",
      "\u001b[1;32m<ipython-input-51-4cf6b9bbd5ee>\u001b[0m in \u001b[0;36mstart_prediction\u001b[1;34m(fieldsOfInterest)\u001b[0m\n\u001b[0;32m     15\u001b[0m     \u001b[0mprint\u001b[0m\u001b[1;33m(\u001b[0m\u001b[0mmetrics\u001b[0m\u001b[1;33m.\u001b[0m\u001b[0maccuracy_score\u001b[0m\u001b[1;33m(\u001b[0m\u001b[0my_test\u001b[0m\u001b[1;33m,\u001b[0m \u001b[0mpred\u001b[0m\u001b[1;33m)\u001b[0m\u001b[1;33m)\u001b[0m\u001b[1;33m\u001b[0m\u001b[1;33m\u001b[0m\u001b[0m\n\u001b[0;32m     16\u001b[0m     \u001b[0mprint\u001b[0m\u001b[1;33m(\u001b[0m\u001b[0mmetrics\u001b[0m\u001b[1;33m.\u001b[0m\u001b[0mmean_squared_error\u001b[0m\u001b[1;33m(\u001b[0m\u001b[0my_test\u001b[0m\u001b[1;33m,\u001b[0m \u001b[0mpred\u001b[0m\u001b[1;33m)\u001b[0m\u001b[1;33m)\u001b[0m\u001b[1;33m\u001b[0m\u001b[1;33m\u001b[0m\u001b[0m\n\u001b[1;32m---> 17\u001b[1;33m     \u001b[0mprint\u001b[0m\u001b[1;33m(\u001b[0m\u001b[0mst\u001b[0m\u001b[1;33m.\u001b[0m\u001b[0mfeature_importances_\u001b[0m\u001b[1;33m)\u001b[0m\u001b[1;33m\u001b[0m\u001b[1;33m\u001b[0m\u001b[0m\n\u001b[0m",
      "\u001b[1;31mAttributeError\u001b[0m: 'StandardScaler' object has no attribute 'feature_importances_'"
     ]
    }
   ],
   "source": [
    "start_prediction(['gender', 'age', 'marital_status', 'credit_sum', 'credit_count', 'living_region'])"
   ]
  },
  {
   "cell_type": "code",
   "execution_count": 43,
   "id": "5a452482",
   "metadata": {},
   "outputs": [
    {
     "name": "stdout",
     "output_type": "stream",
     "text": [
      "0.8266437607371545\n",
      "0.17335623926284555\n"
     ]
    },
    {
     "ename": "AttributeError",
     "evalue": "'StandardScaler' object has no attribute 'feature_importances_'",
     "output_type": "error",
     "traceback": [
      "\u001b[1;31m---------------------------------------------------------------------------\u001b[0m",
      "\u001b[1;31mAttributeError\u001b[0m                            Traceback (most recent call last)",
      "\u001b[1;32m<ipython-input-43-2d17d38ace99>\u001b[0m in \u001b[0;36m<module>\u001b[1;34m\u001b[0m\n\u001b[1;32m----> 1\u001b[1;33m \u001b[0mstart_prediction\u001b[0m\u001b[1;33m(\u001b[0m\u001b[1;33m[\u001b[0m\u001b[1;34m'gender'\u001b[0m\u001b[1;33m]\u001b[0m\u001b[1;33m)\u001b[0m\u001b[1;33m\u001b[0m\u001b[1;33m\u001b[0m\u001b[0m\n\u001b[0m",
      "\u001b[1;32m<ipython-input-42-4cf6b9bbd5ee>\u001b[0m in \u001b[0;36mstart_prediction\u001b[1;34m(fieldsOfInterest)\u001b[0m\n\u001b[0;32m     15\u001b[0m     \u001b[0mprint\u001b[0m\u001b[1;33m(\u001b[0m\u001b[0mmetrics\u001b[0m\u001b[1;33m.\u001b[0m\u001b[0maccuracy_score\u001b[0m\u001b[1;33m(\u001b[0m\u001b[0my_test\u001b[0m\u001b[1;33m,\u001b[0m \u001b[0mpred\u001b[0m\u001b[1;33m)\u001b[0m\u001b[1;33m)\u001b[0m\u001b[1;33m\u001b[0m\u001b[1;33m\u001b[0m\u001b[0m\n\u001b[0;32m     16\u001b[0m     \u001b[0mprint\u001b[0m\u001b[1;33m(\u001b[0m\u001b[0mmetrics\u001b[0m\u001b[1;33m.\u001b[0m\u001b[0mmean_squared_error\u001b[0m\u001b[1;33m(\u001b[0m\u001b[0my_test\u001b[0m\u001b[1;33m,\u001b[0m \u001b[0mpred\u001b[0m\u001b[1;33m)\u001b[0m\u001b[1;33m)\u001b[0m\u001b[1;33m\u001b[0m\u001b[1;33m\u001b[0m\u001b[0m\n\u001b[1;32m---> 17\u001b[1;33m     \u001b[0mprint\u001b[0m\u001b[1;33m(\u001b[0m\u001b[0mst\u001b[0m\u001b[1;33m.\u001b[0m\u001b[0mfeature_importances_\u001b[0m\u001b[1;33m)\u001b[0m\u001b[1;33m\u001b[0m\u001b[1;33m\u001b[0m\u001b[0m\n\u001b[0m",
      "\u001b[1;31mAttributeError\u001b[0m: 'StandardScaler' object has no attribute 'feature_importances_'"
     ]
    }
   ],
   "source": [
    "start_prediction(['gender'])"
   ]
  },
  {
   "cell_type": "code",
   "execution_count": 21,
   "id": "123b53ed",
   "metadata": {},
   "outputs": [
    {
     "name": "stdout",
     "output_type": "stream",
     "text": [
      "0.8265071060440419\n",
      "0.17349289395595816\n"
     ]
    }
   ],
   "source": [
    "start_prediction(['age'])"
   ]
  },
  {
   "cell_type": "code",
   "execution_count": 25,
   "id": "be523699",
   "metadata": {},
   "outputs": [
    {
     "name": "stdout",
     "output_type": "stream",
     "text": [
      "0.8266437607371545\n",
      "0.17335623926284555\n"
     ]
    }
   ],
   "source": [
    "start_prediction(['marital_status'])"
   ]
  },
  {
   "cell_type": "code",
   "execution_count": 41,
   "id": "8e2fb4cc",
   "metadata": {},
   "outputs": [
    {
     "name": "stdout",
     "output_type": "stream",
     "text": [
      "0.7127908792753397\n",
      "0.2872091207246603\n"
     ]
    }
   ],
   "source": [
    "start_prediction(['client_id'])"
   ]
  },
  {
   "cell_type": "code",
   "execution_count": 40,
   "id": "986cbde6",
   "metadata": {},
   "outputs": [
    {
     "name": "stdout",
     "output_type": "stream",
     "text": [
      "0.7217124785256911\n",
      "0.2782875214743089\n"
     ]
    }
   ],
   "source": [
    "start_prediction(['credit_sum'])"
   ]
  },
  {
   "cell_type": "code",
   "execution_count": 23,
   "id": "eb6bf519",
   "metadata": {},
   "outputs": [
    {
     "name": "stdout",
     "output_type": "stream",
     "text": [
      "0.8266047165391223\n",
      "0.1733952834608777\n"
     ]
    }
   ],
   "source": [
    "start_prediction(['credit_count'])"
   ]
  },
  {
   "cell_type": "code",
   "execution_count": 24,
   "id": "d678bc9d",
   "metadata": {},
   "outputs": [
    {
     "name": "stdout",
     "output_type": "stream",
     "text": [
      "0.8266828049351866\n",
      "0.17331719506481336\n"
     ]
    }
   ],
   "source": [
    "start_prediction(['living_region'])"
   ]
  },
  {
   "cell_type": "code",
   "execution_count": null,
   "id": "de83b5d8",
   "metadata": {},
   "outputs": [],
   "source": []
  }
 ],
 "metadata": {
  "kernelspec": {
   "display_name": "Python 3",
   "language": "python",
   "name": "python3"
  },
  "language_info": {
   "codemirror_mode": {
    "name": "ipython",
    "version": 3
   },
   "file_extension": ".py",
   "mimetype": "text/x-python",
   "name": "python",
   "nbconvert_exporter": "python",
   "pygments_lexer": "ipython3",
   "version": "3.9.2"
  }
 },
 "nbformat": 4,
 "nbformat_minor": 5
}
